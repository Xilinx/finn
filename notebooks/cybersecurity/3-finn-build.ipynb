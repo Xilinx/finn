{
 "cells": [
  {
   "cell_type": "code",
   "execution_count": 5,
   "metadata": {},
   "outputs": [],
   "source": [
    "import finn.util.build_dataflow as build"
   ]
  },
  {
   "cell_type": "code",
   "execution_count": 19,
   "metadata": {},
   "outputs": [
    {
     "data": {
      "text/html": [
       "\n",
       "        <iframe\n",
       "            width=\"100%\"\n",
       "            height=\"400\"\n",
       "            src=\"http://0.0.0.0:8081/\"\n",
       "            frameborder=\"0\"\n",
       "            allowfullscreen\n",
       "        ></iframe>\n",
       "        "
      ],
      "text/plain": [
       "<IPython.lib.display.IFrame at 0x7f908dcd7400>"
      ]
     },
     "execution_count": 19,
     "metadata": {},
     "output_type": "execute_result"
    }
   ],
   "source": [
    "from finn.util.visualization import showSrc, showInNetron\n",
    "showInNetron(\"unsw_nb15_quantized_mlp_1bit.onnx\")"
   ]
  },
  {
   "cell_type": "code",
   "execution_count": null,
   "metadata": {},
   "outputs": [],
   "source": [
    "\n",
    "model_name = \"tfc_w1a1\"\n",
    "platform_name = \"Pynq-Z1\"\n",
    "\n",
    "cfg = build.DataflowBuildConfig(\n",
    "    output_dir=\"output_%s_%s\" % (model_name, platform_name),\n",
    "    target_fps=100000,\n",
    "    mvau_wwidth_max =10000,\n",
    "    # can specify detailed folding/FIFO/etc config with:\n",
    "    # folding_config_file=\"folding_config.json\",\n",
    "    synth_clk_period_ns=10.0,\n",
    "    board=platform_name,\n",
    "    shell_flow_type=build.ShellFlowType.VIVADO_ZYNQ,\n",
    "    generate_outputs=[\n",
    "        build.DataflowOutputType.PYNQ_DRIVER,\n",
    "        build.DataflowOutputType.ESTIMATE_REPORTS,\n",
    "        build.DataflowOutputType.STITCHED_IP,       \n",
    "        build.DataflowOutputType.BITFILE,\n",
    "        \n",
    "    ],\n",
    "    save_intermediate_models=True,\n",
    ")\n",
    "model_file = \"unsw_nb15_quantized_mlp_1bit.onnx\"\n",
    "build.build_dataflow_cfg(model_file, cfg)\n"
   ]
  },
  {
   "cell_type": "code",
   "execution_count": null,
   "metadata": {},
   "outputs": [],
   "source": []
  }
 ],
 "metadata": {
  "kernelspec": {
   "display_name": "Python 3",
   "language": "python",
   "name": "python3"
  },
  "language_info": {
   "codemirror_mode": {
    "name": "ipython",
    "version": 3
   },
   "file_extension": ".py",
   "mimetype": "text/x-python",
   "name": "python",
   "nbconvert_exporter": "python",
   "pygments_lexer": "ipython3",
   "version": "3.6.8"
  }
 },
 "nbformat": 4,
 "nbformat_minor": 4
}
