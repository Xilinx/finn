{
 "cells": [
  {
   "cell_type": "markdown",
   "metadata": {},
   "source": [
    "# Do some imports"
   ]
  },
  {
   "cell_type": "code",
   "execution_count": 1,
   "metadata": {},
   "outputs": [],
   "source": [
    "import torch\n",
    "import numpy as np\n",
    "from torchvision import datasets\n",
    "import torchvision.transforms as transforms\n",
    "import torch.utils.data\n",
    "import pandas as pd\n",
    "#from pytorch.ppg_feature_dataset"
   ]
  },
  {
   "cell_type": "markdown",
   "metadata": {},
   "source": [
    "# Get UNSW_NB15 train and test set"
   ]
  },
  {
   "cell_type": "code",
   "execution_count": null,
   "metadata": {},
   "outputs": [],
   "source": [
    "#!wget https://www.unsw.adfa.edu.au/unsw-canberra-cyber/cybersecurity/ADFA-NB15-Datasets/a%20part%20of%20training%20and%20testing%20set/UNSW_NB15_training-set.csv"
   ]
  },
  {
   "cell_type": "code",
   "execution_count": null,
   "metadata": {},
   "outputs": [],
   "source": [
    "#!wget https://www.unsw.adfa.edu.au/unsw-canberra-cyber/cybersecurity/ADFA-NB15-Datasets/a%20part%20of%20training%20and%20testing%20set/UNSW_NB15_testing-set.csv"
   ]
  },
  {
   "cell_type": "code",
   "execution_count": 2,
   "metadata": {},
   "outputs": [],
   "source": [
    "class UNSW_NB15(torch.utils.data.Dataset):\n",
    "    def __init__(self, file_path, sequence_length=25, transform=None):\n",
    "        #TODO have a sequence_overlap=True flag? Does overlap matter?\n",
    "        self.transform = transform\n",
    "        self.sequence_length = sequence_length\n",
    "        self.columns = ['id', 'dur', 'proto', 'service', 'state', 'spkts', 'dpkts', 'sbytes',\n",
    "       'dbytes', 'rate', 'sttl', 'dttl', 'sload', 'dload', 'sloss', 'dloss',\n",
    "       'sinpkt', 'dinpkt', 'sjit', 'djit', 'swin', 'stcpb', 'dtcpb', 'dwin',\n",
    "       'tcprtt', 'synack', 'ackdat', 'smean', 'dmean', 'trans_depth',\n",
    "       'response_body_len', 'ct_srv_src', 'ct_state_ttl', 'ct_dst_ltm',\n",
    "       'ct_src_dport_ltm', 'ct_dst_sport_ltm', 'ct_dst_src_ltm',\n",
    "       'is_ftp_login', 'ct_ftp_cmd', 'ct_flw_http_mthd', 'ct_src_ltm',\n",
    "       'ct_srv_dst', 'is_sm_ips_ports', 'attack_cat', 'label']\n",
    "        self.dtypes = dtypes = {\"id\":\"int32\",\n",
    "                                \"scrip\": \"string\",\n",
    "                                #\"sport\": \"int32\",\n",
    "                                \"dstip\": \"string\",\n",
    "                                #\"dsport\": \"int32\",\n",
    "                                \"proto\": \"string\",\n",
    "                                \"state\": \"string\",\n",
    "                                \"dur\": \"float64\",\n",
    "                                \"sbytes\": \"int32\",\n",
    "                                \"dbytes\": \"int32\",\n",
    "                                \"sttl\": \"int32\",\n",
    "                                \"dttl\": \"int32\",\n",
    "                                \"sloss\": \"int32\",\n",
    "                                \"dloss\": \"int32\",\n",
    "                                \"service\": \"string\",\n",
    "                                \"sload\": \"float64\",\n",
    "                                \"dload\": \"float64\",\n",
    "                                \"spkts\": \"int32\",\n",
    "                                \"dpkts\": \"int32\",\n",
    "                                \"swin\": \"int32\",\n",
    "                                \"dwin\": \"int32\",\n",
    "                                \"stcpb\": \"int32\",\n",
    "                                \"dtcpb\": \"int32\", \n",
    "                                #\"smeansz\": \"int32\",\n",
    "                                #\"dmeansz\": \"int32\",\n",
    "                                \"trans_depth\": \"int32\",\n",
    "                                #\"res_bdy_len\": \"int32\",\n",
    "                                \"sjit\": \"float64\",\n",
    "                                \"djit\": \"float64\",\n",
    "                                #\"stime\": \"int64\",\n",
    "                                #\"ltime\": \"int64\",\n",
    "                                #\"sintpkt\": \"float64\",\n",
    "                                #\"dintpkt\": \"float64\",\n",
    "                                \"tcprtt\": \"float64\",\n",
    "                                \"synack\": \"float64\",\n",
    "                                \"ackdat\": \"float64\",\n",
    "\n",
    "                                #commenting these because they have mixed values and we aren't going to generate them anyway\n",
    "                                #\"is_sm_ips_ports\": \"int32\",\n",
    "                                #\"ct_state_ttl\": \"int32\",\n",
    "                                #\"ct_flw_httpd_mthd\": \"int32\",\n",
    "                                #\"is_ftp_login\": \"int32\",\n",
    "                                #\"is_ftp_cmd\": \"int32\",\n",
    "                                #\"ct_ftp_cmd\": \"int32\",\n",
    "                                #\"ct_srv_src\": \"int32\",\n",
    "                                ##\"ct_dst_ltm\": \"int32\", \n",
    "                                #\"ct_src_ltm\": \"int32\",\n",
    "                                #\"ct_src_dport_ltm\": \"int32\",\n",
    "                                #\"ct_dst_sport_ltm\": \"int32\",\n",
    "                                #\"ct_dst_src_ltm\": \"int32\",\n",
    "                                \"attack_cat\": \"string\",\n",
    "                                \"label\": \"int32\"}\n",
    "        self.categorical_column_values = {\"proto\":None, \"state\":None, \"service\":None, \"attack_cat\":None}\n",
    "\n",
    "        self.dataframe = pd.read_csv(file_path, encoding=\"latin-1\", names=self.columns,header=0, dtype=self.dtypes)\n",
    "        #self.dataframe.sort_values(by=['stime']) #sort chronologically upon loading\n",
    "        \n",
    "        #load all the unique values of categorical features at the start\n",
    "        #and make these accessible via a fast function call.\n",
    "        for key in self.categorical_column_values:\n",
    "            self.categorical_column_values[key] = self.dataframe[key].unique()\n",
    "\n",
    "        #cache all the maximum values in numeric columns since we'll be using these for feature extraction\n",
    "        self.maximums = {}\n",
    "        for key in self.dtypes:\n",
    "            if \"int\" in self.dtypes[key] or \"float\" in self.dtypes[key]:\n",
    "                self.maximums[key] = max(self.dataframe[key])\n",
    "        \n",
    "        #self.dataframe = torch.tensor(self.dataframe, dtype=torch.float32)\n",
    "        self.tensor = torch.Tensor(self.dataframe.values)\n",
    "    def __len__(self):\n",
    "        return len(self.dataframe.index) - self.sequence_length\n",
    "    \n",
    "    def __getitem__(self, index):\n",
    "        #TODO need error checking for out of bounds?\n",
    "        #TODO return x,y where y is the category of the example\n",
    "        #since none corresponds to \"normal\" data\n",
    "        \n",
    "        list_of_dicts = []\n",
    "        for i in range(index,index+self.sequence_length):\n",
    "            list_of_dicts.append(self.dataframe.loc[i, :].to_dict())\n",
    "        \n",
    "        if self.transform is not None:\n",
    "            return self.transform(self, list_of_dicts)\n",
    "        \n",
    "        return list_of_dicts\n",
    "    \n",
    "    #get a list of all the unique labels in the dataset\n",
    "    def get_labels(self):\n",
    "        return self.dataframe['label'].unique().tolist()\n",
    "    \n",
    "    #get a list of all the unique attack categories in the dataset\n",
    "    def get_attack_categories(self):\n",
    "        return self.dataframe['attack_cat'].unique().tolist()\n",
    "    \n",
    "    def get_list_of_categories(self, column_name):\n",
    "        pass #TODO\n",
    "\n",
    "    #limit the dataset to only examples in the specified category\n",
    "    def use_only_category(self, category_name):\n",
    "        if category_name not in self.get_attack_categories():\n",
    "            return False\n",
    "        \n",
    "        new_dataframe = self.dataframe[self.dataframe['attack_cat'] == category_name]\n",
    "        new_dataframe = new_dataframe.reset_index()\n",
    "        self.dataframe = new_dataframe\n",
    "        return True\n",
    "    \n",
    "    #limit the dataset to only examples with the specified label\n",
    "    def use_only_label(self, label):\n",
    "        if label not in self.get_labels():\n",
    "            return False\n",
    "        \n",
    "        new_dataframe = self.dataframe[self.dataframe['label'] == label]\n",
    "        new_dataframe = new_dataframe.reset_index()\n",
    "        self.dataframe = new_dataframe\n",
    "        return True"
   ]
  },
  {
   "cell_type": "markdown",
   "metadata": {},
   "source": [
    "# Create UNSW_NB15 class"
   ]
  },
  {
   "cell_type": "code",
   "execution_count": 4,
   "metadata": {},
   "outputs": [
    {
     "ename": "TypeError",
     "evalue": "can't convert np.ndarray of type numpy.object_. The only supported types are: float64, float32, float16, int64, int32, int16, int8, and uint8.",
     "output_type": "error",
     "traceback": [
      "\u001b[0;31m---------------------------------------------------------------------------\u001b[0m",
      "\u001b[0;31mTypeError\u001b[0m                                 Traceback (most recent call last)",
      "\u001b[0;32m<ipython-input-4-28cd9eb6cd00>\u001b[0m in \u001b[0;36m<module>\u001b[0;34m\u001b[0m\n\u001b[0;32m----> 1\u001b[0;31m \u001b[0munsw_nb15\u001b[0m \u001b[0;34m=\u001b[0m \u001b[0mUNSW_NB15\u001b[0m\u001b[0;34m(\u001b[0m\u001b[0mfile_path\u001b[0m \u001b[0;34m=\u001b[0m\u001b[0;34m'UNSW_NB15_training-set.csv'\u001b[0m\u001b[0;34m)\u001b[0m\u001b[0;34m\u001b[0m\u001b[0;34m\u001b[0m\u001b[0m\n\u001b[0m\u001b[1;32m      2\u001b[0m \u001b[0munsw_nb15\u001b[0m\u001b[0;34m.\u001b[0m\u001b[0mhead\u001b[0m\u001b[0;34m(\u001b[0m\u001b[0;34m)\u001b[0m\u001b[0;34m\u001b[0m\u001b[0;34m\u001b[0m\u001b[0m\n",
      "\u001b[0;32m<ipython-input-2-8c6ad1e94cf2>\u001b[0m in \u001b[0;36m__init__\u001b[0;34m(self, file_path, sequence_length, transform)\u001b[0m\n\u001b[1;32m     81\u001b[0m \u001b[0;34m\u001b[0m\u001b[0m\n\u001b[1;32m     82\u001b[0m         \u001b[0;31m#self.dataframe = torch.tensor(self.dataframe, dtype=torch.float32)\u001b[0m\u001b[0;34m\u001b[0m\u001b[0;34m\u001b[0m\u001b[0;34m\u001b[0m\u001b[0m\n\u001b[0;32m---> 83\u001b[0;31m         \u001b[0mself\u001b[0m\u001b[0;34m.\u001b[0m\u001b[0mtensor\u001b[0m \u001b[0;34m=\u001b[0m \u001b[0mtorch\u001b[0m\u001b[0;34m.\u001b[0m\u001b[0mTensor\u001b[0m\u001b[0;34m(\u001b[0m\u001b[0mself\u001b[0m\u001b[0;34m.\u001b[0m\u001b[0mdataframe\u001b[0m\u001b[0;34m.\u001b[0m\u001b[0mvalues\u001b[0m\u001b[0;34m)\u001b[0m\u001b[0;34m\u001b[0m\u001b[0;34m\u001b[0m\u001b[0m\n\u001b[0m\u001b[1;32m     84\u001b[0m     \u001b[0;32mdef\u001b[0m \u001b[0m__len__\u001b[0m\u001b[0;34m(\u001b[0m\u001b[0mself\u001b[0m\u001b[0;34m)\u001b[0m\u001b[0;34m:\u001b[0m\u001b[0;34m\u001b[0m\u001b[0;34m\u001b[0m\u001b[0m\n\u001b[1;32m     85\u001b[0m         \u001b[0;32mreturn\u001b[0m \u001b[0mlen\u001b[0m\u001b[0;34m(\u001b[0m\u001b[0mself\u001b[0m\u001b[0;34m.\u001b[0m\u001b[0mdataframe\u001b[0m\u001b[0;34m.\u001b[0m\u001b[0mindex\u001b[0m\u001b[0;34m)\u001b[0m \u001b[0;34m-\u001b[0m \u001b[0mself\u001b[0m\u001b[0;34m.\u001b[0m\u001b[0msequence_length\u001b[0m\u001b[0;34m\u001b[0m\u001b[0;34m\u001b[0m\u001b[0m\n",
      "\u001b[0;31mTypeError\u001b[0m: can't convert np.ndarray of type numpy.object_. The only supported types are: float64, float32, float16, int64, int32, int16, int8, and uint8."
     ]
    }
   ],
   "source": [
    "unsw_nb15 = UNSW_NB15(file_path ='UNSW_NB15_training-set.csv')\n",
    "unsw_nb15.head()"
   ]
  },
  {
   "cell_type": "code",
   "execution_count": null,
   "metadata": {},
   "outputs": [],
   "source": []
  },
  {
   "cell_type": "code",
   "execution_count": null,
   "metadata": {},
   "outputs": [],
   "source": []
  }
 ],
 "metadata": {
  "kernelspec": {
   "display_name": "Python 3",
   "language": "python",
   "name": "python3"
  },
  "language_info": {
   "codemirror_mode": {
    "name": "ipython",
    "version": 3
   },
   "file_extension": ".py",
   "mimetype": "text/x-python",
   "name": "python",
   "nbconvert_exporter": "python",
   "pygments_lexer": "ipython3",
   "version": "3.6.8"
  }
 },
 "nbformat": 4,
 "nbformat_minor": 4
}
