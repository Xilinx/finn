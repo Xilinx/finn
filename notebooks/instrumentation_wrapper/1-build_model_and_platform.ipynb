{
 "cells": [
  {
   "cell_type": "markdown",
   "id": "ae76ce2a-0021-4b8a-b7de-fa86dc4d85b9",
   "metadata": {},
   "source": [
    "# FINN Instrumentation Wrapper Flow (Part 1/2)\n",
    "#### **NOTE: Make sure the Jupyter server was started in your FINN repository using the command `./run-docker notebook`, the FINN builds will fail otherwise.**\n",
    "\n",
    "This Jupyter notebook will build a simple model and platform to be used in running the instrumentation wrapper."
   ]
  },
  {
   "cell_type": "markdown",
   "id": "603501b5",
   "metadata": {},
   "source": [
    "## Build the model using the FINN compiler\n",
    "The build flow is similar to the flows described within the other FINN and FINN-examples notebooks. However, there are additional steps added to the default build_dataflow:\\\n",
    "\\\n",
    "`test_step_gen_vitis_xo`\\\n",
    "`test_step_gen_instrumentation_wrapper`\\\n",
    "\\\n",
    "These steps will generate additional output products, namely `.xo` kernel IP files which will be used to link the FINN design and instrumentation wrapper to the hardware platform and allow it to be run through Vitis. \\\n",
    "\\\n",
    "First, the necessary modules are imported and the model file is given. The model which we will be using is TFC-w1a1, trained on the MNIST dataset. The board name and part are also given. In this case we are targeting the VMK180 from the Versal Prime series, though other Versal boards such as the VCK190 may also be compatible with this build flow. Then, the platform Vitis IP directory to which the `.xo` files will be copied into in order to build the Vitis platform is given."
   ]
  },
  {
   "cell_type": "code",
   "execution_count": null,
   "id": "20f39e6e",
   "metadata": {},
   "outputs": [],
   "source": [
    "##\n",
    "# Copyright (C) 2023, Advanced Micro Devices, Inc. All rights reserved.\n",
    "##\n",
    "\n",
    "import numpy as np\n",
    "import os\n",
    "import shutil\n",
    "from qonnx.custom_op.registry import getCustomOp\n",
    "\n",
    "import finn.builder.build_dataflow as build\n",
    "import finn.builder.build_dataflow_config as build_cfg\n",
    "import finn.util.data_packing as dpk\n",
    "from finn.custom_op.fpgadataflow.templates import ipgentcl_template\n",
    "from finn.transformation.fpgadataflow.vitis_build import CreateVitisXO\n",
    "from finn.util.hls import CallHLS\n",
    "\n",
    "model_file = \"model.onnx\"\n",
    "model_name = \"tfc_w1a1\"\n",
    "\n",
    "platform_name = \"VMK180\"\n",
    "fpga_part = \"xcvm1802-vsva2197-2MP-e-S\"\n",
    "\n",
    "vitis_ip_dir = \"instr_wrap_platform/vitis/ip\""
   ]
  },
  {
   "cell_type": "markdown",
   "id": "7c154f6d",
   "metadata": {},
   "source": [
    "The aforementioned additional steps are then defined.\n",
    "\\\n",
    "\\\n",
    "`test_step_gen_vitis_xo` will take the stitched model created using the FINN compiler and generate the `.xo` file for the FINN design."
   ]
  },
  {
   "cell_type": "code",
   "execution_count": null,
   "id": "fdaf594e",
   "metadata": {},
   "outputs": [],
   "source": [
    "def test_step_gen_vitis_xo(model, cfg):\n",
    "    xo_dir = cfg.output_dir + \"/xo\"\n",
    "    xo_dir = str(os.path.abspath(xo_dir))\n",
    "    os.makedirs(xo_dir, exist_ok=True)\n",
    "    model = model.transform(CreateVitisXO())\n",
    "    xo_path = model.get_metadata_prop(\"vitis_xo\")\n",
    "    shutil.copy(xo_path, xo_dir)\n",
    "    return model"
   ]
  },
  {
   "cell_type": "markdown",
   "id": "0c13aea9",
   "metadata": {},
   "source": [
    "`test_step_gen_instrumentation_wrapper` will first get the input and output properties of the FINN model. It will then use these values to fill out the template found in `templates/instrumentation_wrapper.template.cpp`, and save the filled template to an output file. It will also fill out a template and save a `.tcl` file for use in HLS synthesis of the instrumentation wrapper. These files will then be used to generate the `.xo` file for the instrumentation wrapper."
   ]
  },
  {
   "cell_type": "code",
   "execution_count": null,
   "id": "815d93cc",
   "metadata": {},
   "outputs": [],
   "source": [
    "def test_step_gen_instrumentation_wrapper(model, cfg):\n",
    "    xo_dir = cfg.output_dir + \"/xo\"\n",
    "    xo_dir = str(os.path.abspath(xo_dir))\n",
    "    os.makedirs(xo_dir, exist_ok=True)\n",
    "    wrapper_output_dir = cfg.output_dir + \"/instrumentation_wrapper\"\n",
    "    wrapper_output_dir = str(os.path.abspath(wrapper_output_dir))\n",
    "    os.makedirs(wrapper_output_dir, exist_ok=True)\n",
    "    # conservative max for pending feature maps: number of layers\n",
    "    pending = len(model.graph.node)\n",
    "    # query the parallelism-dependent folded input shape from the\n",
    "    # node consuming the graph input\n",
    "    inp_name = model.graph.input[0].name\n",
    "    inp_node = getCustomOp(model.find_consumer(inp_name))\n",
    "    inp_shape_folded = list(inp_node.get_folded_input_shape())\n",
    "    inp_stream_width = inp_node.get_instream_width_padded()\n",
    "    # number of beats per input is given by product of folded input\n",
    "    # shape except the last dim (which is the stream width)\n",
    "    ilen = np.prod(inp_shape_folded[:-1])\n",
    "    ti = \"ap_uint<%d>\" % inp_stream_width\n",
    "    # perform the same for the output\n",
    "    out_name = model.graph.output[0].name\n",
    "    out_node = getCustomOp(model.find_producer(out_name))\n",
    "    out_shape_folded = list(out_node.get_folded_output_shape())\n",
    "    out_stream_width = out_node.get_outstream_width_padded()\n",
    "    olen = np.prod(out_shape_folded[:-1])\n",
    "    to = \"ap_uint<%d>\" % out_stream_width\n",
    "    ko = out_shape_folded[-1]\n",
    "    # fill out instrumentation wrapper template\n",
    "    with open(\"templates/instrumentation_wrapper.template.cpp\", \"r\") as f:\n",
    "        instrwrp_cpp = f.read()\n",
    "    instrwrp_cpp = instrwrp_cpp.replace(\"@PENDING@\", str(pending))\n",
    "    instrwrp_cpp = instrwrp_cpp.replace(\"@ILEN@\", str(ilen))\n",
    "    instrwrp_cpp = instrwrp_cpp.replace(\"@OLEN@\", str(olen))\n",
    "    instrwrp_cpp = instrwrp_cpp.replace(\"@TI@\", str(ti))\n",
    "    instrwrp_cpp = instrwrp_cpp.replace(\"@TO@\", str(to))\n",
    "    instrwrp_cpp = instrwrp_cpp.replace(\"@KO@\", str(ko))\n",
    "    with open(wrapper_output_dir + \"/top_instrumentation_wrapper.cpp\", \"w\") as f:\n",
    "        f.write(instrwrp_cpp)\n",
    "    # fill out HLS synthesis tcl template\n",
    "    prjname = \"project_instrwrap\"\n",
    "    ipgentcl = ipgentcl_template\n",
    "    ipgentcl = ipgentcl.replace(\"$PROJECTNAME$\", prjname)\n",
    "    ipgentcl = ipgentcl.replace(\"$HWSRCDIR$\", wrapper_output_dir)\n",
    "    ipgentcl = ipgentcl.replace(\"$TOPFXN$\", \"instrumentation_wrapper\")\n",
    "    ipgentcl = ipgentcl.replace(\"$FPGAPART$\", cfg._resolve_fpga_part())\n",
    "    ipgentcl = ipgentcl.replace(\"$CLKPERIOD$\", str(cfg.synth_clk_period_ns))\n",
    "    ipgentcl = ipgentcl.replace(\"$DEFAULT_DIRECTIVES$\", \"\")\n",
    "    ipgentcl = ipgentcl.replace(\"$EXTRA_DIRECTIVES$\", \"config_export -format xo\")\n",
    "    # use Vitis RTL kernel (.xo) output instead of IP-XACT\n",
    "    ipgentcl = ipgentcl.replace(\"export_design -format ip_catalog\", \"export_design -format xo\")\n",
    "    with open(wrapper_output_dir + \"/hls_syn.tcl\", \"w\") as f:\n",
    "        f.write(ipgentcl)\n",
    "    # build bash script to launch HLS synth and call it\n",
    "    code_gen_dir = wrapper_output_dir\n",
    "    builder = CallHLS()\n",
    "    builder.append_tcl(code_gen_dir + \"/hls_syn.tcl\")\n",
    "    builder.set_ipgen_path(code_gen_dir + \"/{}\".format(prjname))\n",
    "    builder.build(code_gen_dir)\n",
    "    ipgen_path = builder.ipgen_path\n",
    "    assert os.path.isdir(ipgen_path), \"HLS IPGen failed: %s not found\" % (ipgen_path)\n",
    "    ip_path = ipgen_path + \"/sol1/impl/ip\"\n",
    "    assert os.path.isdir(ip_path), \"HLS IPGen failed: %s not found. Check log under %s\" % (\n",
    "        ip_path,\n",
    "        code_gen_dir,\n",
    "    )\n",
    "    xo_path = code_gen_dir + \"/{}/sol1/impl/export.xo\".format(prjname)\n",
    "    xo_instr_path = xo_dir + \"/instrumentation_wrapper.xo\"\n",
    "    shutil.copy(xo_path, xo_instr_path)\n",
    "\n",
    "    return model"
   ]
  },
  {
   "cell_type": "markdown",
   "id": "0fb59c1c",
   "metadata": {},
   "source": [
    "With the additional steps defined, they can then be appended to the build flow. The other necessary configurations for the build will also be set."
   ]
  },
  {
   "cell_type": "code",
   "execution_count": null,
   "id": "3e7a436c",
   "metadata": {},
   "outputs": [],
   "source": [
    "build_steps = build_cfg.default_build_dataflow_steps + [\n",
    "    test_step_gen_vitis_xo,\n",
    "    test_step_gen_instrumentation_wrapper,\n",
    "]\n",
    "\n",
    "build_steps.remove(\"step_specialize_to_rtl\")\n",
    "\n",
    "cfg = build.DataflowBuildConfig(\n",
    "    steps=build_steps,\n",
    "    board=platform_name,\n",
    "    fpga_part=fpga_part,\n",
    "    output_dir=\"output_%s_%s\" % (model_name, platform_name),\n",
    "    synth_clk_period_ns=3.3,\n",
    "    folding_config_file=\"folding_config.json\",\n",
    "    stitched_ip_gen_dcp=False,\n",
    "    generate_outputs=[\n",
    "        build_cfg.DataflowOutputType.STITCHED_IP,\n",
    "    ],\n",
    "    save_intermediate_models=True,\n",
    ")"
   ]
  },
  {
   "cell_type": "markdown",
   "id": "c8ba2f66",
   "metadata": {},
   "source": [
    "Finally, the build will be launched. This will take a few minutes."
   ]
  },
  {
   "cell_type": "code",
   "execution_count": null,
   "id": "adbdc290",
   "metadata": {},
   "outputs": [],
   "source": [
    "build.build_dataflow_cfg(model_file, cfg)"
   ]
  },
  {
   "cell_type": "markdown",
   "id": "0c85ff0e-407d-43e7-92dc-3f6dc99ecb8f",
   "metadata": {},
   "source": [
    "The build outputs, including the intermediate models and estimate reports, can be found in the `output_tfc_w1a1_<PLATFORM_NAME>` folder."
   ]
  },
  {
   "cell_type": "markdown",
   "id": "d232bfad-1706-49a9-8e42-842cf688c96b",
   "metadata": {},
   "source": [
    "## Build the instrumentation wrapper platform\n",
    "With the FINN model built, the generated output `.xo` files can then be used to build the platform on which the instrumentation wrapper will be run. This will be done through the use of `Makefiles` and corresponding `make` commands. \\\n",
    "\\\n",
    "The editable variables which are used in the build are defined within the top-level `Makefile` in the `thin_platform` folder."
   ]
  },
  {
   "cell_type": "code",
   "execution_count": null,
   "id": "65af82b9-b508-44e1-836c-bbe6d9f19853",
   "metadata": {},
   "outputs": [],
   "source": [
    "!sed -n 17,38p instr_wrap_platform/Makefile"
   ]
  },
  {
   "cell_type": "markdown",
   "id": "91947ac5-aa95-4ce5-b080-8a1bc887b38f",
   "metadata": {},
   "source": [
    "The target for this build is hardware, and the Vivado ILA (integrated logic analyser) will not be used. The board we are targeting is the VMK180, which is connected to a remote machine with a hw_server set up for it. The design will be singled-pumped (only one clock used to drive it), and the clock frequency will be 200MHz (the other clock will not be used in this case, but it is generally double the frequency of the slower clock). \\\n",
    "\\\n",
    "These default values will suffice for the build alone. However, in order to run the instrumentation wrapper we will need to connect to the board via the hw_server, so the hw_server variables should be changed to your own hw_server parameters. This can be done by opening, editing and saving the Makefile from the Jupyter notebook `instr_wrap_platform` folder."
   ]
  },
  {
   "cell_type": "markdown",
   "id": "696eb96d-5df6-4cf4-b814-6fbe2312f32a",
   "metadata": {},
   "source": [
    "To start with the platform build, first the `.xo` files will be copied to the Vitis IP folder."
   ]
  },
  {
   "cell_type": "code",
   "execution_count": null,
   "id": "54785dae-ce71-4f7e-8c8a-6c73d2e00b82",
   "metadata": {},
   "outputs": [],
   "source": [
    "%%sh\n",
    "cp output_tfc_w1a1_VMK180/xo/finn_design.xo instr_wrap_platform/vitis/ip/finn_design/src\n",
    "cp output_tfc_w1a1_VMK180/xo/instrumentation_wrapper.xo instr_wrap_platform/vitis/ip/instrumentation_wrapper/src"
   ]
  },
  {
   "cell_type": "markdown",
   "id": "aa7b46d5-04bb-400b-9d20-db4be6cafe30",
   "metadata": {},
   "source": [
    "Then, the necessary `make` commands will be run from the root of the platform directory. `make help` can be run to get a brief explanation on what each `make` rule does."
   ]
  },
  {
   "cell_type": "code",
   "execution_count": null,
   "id": "45d89713-566e-42a0-bc7f-afa11ad1b62f",
   "metadata": {},
   "outputs": [],
   "source": [
    "%%sh\n",
    "cd instr_wrap_platform\n",
    "make help"
   ]
  },
  {
   "cell_type": "markdown",
   "id": "6054a434-1b56-41be-adab-7b603ca23f8d",
   "metadata": {},
   "source": [
    "\\\n",
    "If there were any builds run previously, `make clean` should be run to remove all outputs generated by previous builds, so that a fresh build can be started. This prevents old or partial builds from potentially interfering with the new build."
   ]
  },
  {
   "cell_type": "code",
   "execution_count": null,
   "id": "32f11ea5-50c5-4aa2-9854-1ea9bfa42504",
   "metadata": {
    "scrolled": true
   },
   "outputs": [],
   "source": [
    "%%sh\n",
    "cd instr_wrap_platform\n",
    "make clean"
   ]
  },
  {
   "cell_type": "markdown",
   "id": "76c0e6c2-44cc-4fc9-b59d-04402ef986bd",
   "metadata": {},
   "source": [
    "To build the instrumentation wrapper, the 4 `make` commands \\\n",
    "`make vivado_platform`\\\n",
    "`make vitis_platform`\\\n",
    "`make vitis_ip`\\\n",
    "`make full_impl`\\\n",
    "must be run in succession."
   ]
  },
  {
   "cell_type": "markdown",
   "id": "3ef0cdd0-6d43-4a48-991f-c102141cfe06",
   "metadata": {},
   "source": [
    "Alternatively, instead of running each command separately, the `make all` command can be used to run the aforementioned 4 steps in succession. \\\n",
    "\\\n",
    "The build will take a few minutes to complete."
   ]
  },
  {
   "cell_type": "code",
   "execution_count": null,
   "id": "1827cfe1-01fd-4c74-9bf0-3927e25a3bb6",
   "metadata": {
    "scrolled": true
   },
   "outputs": [],
   "source": [
    "%%sh\n",
    "cd instr_wrap_platform\n",
    "make all"
   ]
  },
  {
   "cell_type": "markdown",
   "id": "877e5eaa-5b32-4ff5-9ba4-4c802301f7ce",
   "metadata": {},
   "source": [
    "Once the build has finished, the generated outputs can be found in the `instr_wrap_platform/vitis/build_hw` folder. The full Vivado project `prj.xpr` can be found in `build_hw/_x/link/vivado/vpl/prj`. The final platform block design can be viewed in this project. Vivado features such as utilisation reports can also be run to view the resource usage and other metrics of the platform."
   ]
  },
  {
   "cell_type": "markdown",
   "id": "2c53a38a-9d68-4986-b20a-53366123a914",
   "metadata": {},
   "source": [
    "## Alternative Method: Build the instrumentation wrapper as part of the FINN build flow\n",
    "Alternatively, instead of building the platform separately to the FINN model, additional steps could be appended to the FINN build flow to build the platform after the FINN model has finished compiling and the corresponding `.xo` files have been generated. These steps would simply call the necessary `make` commands through the Python `subprocess` module. This way, both the FINN model and the instrumentation wrapper platform could be built in one go, rather than having to run the builds separately. The cell below shows how this could be done, and can be run by uncommenting the code by removing the `\"\"\"` at the start and the `\"\"\";` at the end."
   ]
  },
  {
   "cell_type": "code",
   "execution_count": null,
   "id": "4e24c1d1-035f-4775-81d1-df4849e7fab5",
   "metadata": {},
   "outputs": [],
   "source": [
    "\"\"\"\n",
    "# An alternative method of building the instrumentation wrapper platform\n",
    "# by appending steps to call the `make` commands to the FINN build flow\n",
    "\n",
    "import numpy as np\n",
    "import os\n",
    "import shutil\n",
    "import subprocess\n",
    "from qonnx.custom_op.registry import getCustomOp\n",
    "\n",
    "import finn.builder.build_dataflow as build\n",
    "import finn.builder.build_dataflow_config as build_cfg\n",
    "import finn.util.data_packing as dpk\n",
    "from finn.custom_op.fpgadataflow.templates import ipgentcl_template\n",
    "from finn.transformation.fpgadataflow.vitis_build import CreateVitisXO\n",
    "from finn.util.hls import CallHLS\n",
    "\n",
    "model_file = \"model.onnx\"\n",
    "model_name = \"tfc_w1a1\"\n",
    "\n",
    "platform_name = \"VMK180\"\n",
    "fpga_part = \"xcvm1802-vsva2197-2MP-e-S\"\n",
    "\n",
    "vitis_ip_dir = \"instr_wrap_platform/vitis/ip\"\n",
    "\n",
    "def test_step_gen_vitis_xo(model, cfg):\n",
    "    xo_dir = cfg.output_dir + \"/xo\"\n",
    "    xo_dir = str(os.path.abspath(xo_dir))\n",
    "    os.makedirs(xo_dir, exist_ok=True)\n",
    "    model = model.transform(CreateVitisXO())\n",
    "    xo_path = model.get_metadata_prop(\"vitis_xo\")\n",
    "    shutil.copy(xo_path, xo_dir)\n",
    "    return model\n",
    "\n",
    "\n",
    "def test_step_gen_instrumentation_wrapper(model, cfg):\n",
    "    xo_dir = cfg.output_dir + \"/xo\"\n",
    "    xo_dir = str(os.path.abspath(xo_dir))\n",
    "    os.makedirs(xo_dir, exist_ok=True)\n",
    "    wrapper_output_dir = cfg.output_dir + \"/instrumentation_wrapper\"\n",
    "    wrapper_output_dir = str(os.path.abspath(wrapper_output_dir))\n",
    "    os.makedirs(wrapper_output_dir, exist_ok=True)\n",
    "    # conservative max for pending feature maps: number of layers\n",
    "    pending = len(model.graph.node)\n",
    "    # query the parallelism-dependent folded input shape from the\n",
    "    # node consuming the graph input\n",
    "    inp_name = model.graph.input[0].name\n",
    "    inp_node = getCustomOp(model.find_consumer(inp_name))\n",
    "    inp_shape_folded = list(inp_node.get_folded_input_shape())\n",
    "    inp_stream_width = inp_node.get_instream_width_padded()\n",
    "    # number of beats per input is given by product of folded input\n",
    "    # shape except the last dim (which is the stream width)\n",
    "    ilen = np.prod(inp_shape_folded[:-1])\n",
    "    ti = \"ap_uint<%d>\" % inp_stream_width\n",
    "    # perform the same for the output\n",
    "    out_name = model.graph.output[0].name\n",
    "    out_node = getCustomOp(model.find_producer(out_name))\n",
    "    out_shape_folded = list(out_node.get_folded_output_shape())\n",
    "    out_stream_width = out_node.get_outstream_width_padded()\n",
    "    olen = np.prod(out_shape_folded[:-1])\n",
    "    to = \"ap_uint<%d>\" % out_stream_width\n",
    "    ko = out_shape_folded[-1]\n",
    "    # fill out instrumentation wrapper template\n",
    "    with open(\"templates/instrumentation_wrapper.template.cpp\", \"r\") as f:\n",
    "        instrwrp_cpp = f.read()\n",
    "    instrwrp_cpp = instrwrp_cpp.replace(\"@PENDING@\", str(pending))\n",
    "    instrwrp_cpp = instrwrp_cpp.replace(\"@ILEN@\", str(ilen))\n",
    "    instrwrp_cpp = instrwrp_cpp.replace(\"@OLEN@\", str(olen))\n",
    "    instrwrp_cpp = instrwrp_cpp.replace(\"@TI@\", str(ti))\n",
    "    instrwrp_cpp = instrwrp_cpp.replace(\"@TO@\", str(to))\n",
    "    instrwrp_cpp = instrwrp_cpp.replace(\"@KO@\", str(ko))\n",
    "    with open(wrapper_output_dir + \"/top_instrumentation_wrapper.cpp\", \"w\") as f:\n",
    "        f.write(instrwrp_cpp)\n",
    "    # fill out HLS synthesis tcl template\n",
    "    prjname = \"project_instrwrap\"\n",
    "    ipgentcl = ipgentcl_template\n",
    "    ipgentcl = ipgentcl.replace(\"$PROJECTNAME$\", prjname)\n",
    "    ipgentcl = ipgentcl.replace(\"$HWSRCDIR$\", wrapper_output_dir)\n",
    "    ipgentcl = ipgentcl.replace(\"$TOPFXN$\", \"instrumentation_wrapper\")\n",
    "    ipgentcl = ipgentcl.replace(\"$FPGAPART$\", cfg._resolve_fpga_part())\n",
    "    ipgentcl = ipgentcl.replace(\"$CLKPERIOD$\", str(cfg.synth_clk_period_ns))\n",
    "    ipgentcl = ipgentcl.replace(\"$DEFAULT_DIRECTIVES$\", \"\")\n",
    "    ipgentcl = ipgentcl.replace(\"$EXTRA_DIRECTIVES$\", \"config_export -format xo\")\n",
    "    # use Vitis RTL kernel (.xo) output instead of IP-XACT\n",
    "    ipgentcl = ipgentcl.replace(\"export_design -format ip_catalog\", \"export_design -format xo\")\n",
    "    with open(wrapper_output_dir + \"/hls_syn.tcl\", \"w\") as f:\n",
    "        f.write(ipgentcl)\n",
    "    # build bash script to launch HLS synth and call it\n",
    "    code_gen_dir = wrapper_output_dir\n",
    "    builder = CallHLS()\n",
    "    builder.append_tcl(code_gen_dir + \"/hls_syn.tcl\")\n",
    "    builder.set_ipgen_path(code_gen_dir + \"/{}\".format(prjname))\n",
    "    builder.build(code_gen_dir)\n",
    "    ipgen_path = builder.ipgen_path\n",
    "    assert os.path.isdir(ipgen_path), \"HLS IPGen failed: %s not found\" % (ipgen_path)\n",
    "    ip_path = ipgen_path + \"/sol1/impl/ip\"\n",
    "    assert os.path.isdir(ip_path), \"HLS IPGen failed: %s not found. Check log under %s\" % (\n",
    "        ip_path,\n",
    "        code_gen_dir,\n",
    "    )\n",
    "    xo_path = code_gen_dir + \"/{}/sol1/impl/export.xo\".format(prjname)\n",
    "    xo_instr_path = xo_dir + \"/instrumentation_wrapper.xo\"\n",
    "    shutil.copy(xo_path, xo_instr_path)\n",
    "\n",
    "    return model\n",
    "\n",
    "\n",
    "def test_step_export_xo(model, cfg):\n",
    "    # Copy the generated .xo files to their respective Vitis IP directory\n",
    "    result = subprocess.call(['cp', cfg.output_dir+\"/xo/finn_design.xo\", 'instr_wrap_platform/vitis/ip/finn_design/src'])\n",
    "    result = subprocess.call(['cp', cfg.output_dir+\"/xo/instrumentation_wrapper.xo\", 'instr_wrap_platform/vitis/ip/instrumentation_wrapper/src'])\n",
    "    return model\n",
    "\n",
    "\n",
    "def test_step_build_platform(model, cfg):\n",
    "    # Clean any previous/partial builds and then build full platform\n",
    "    result = subprocess.call(\"cd instr_wrap_platform && make clean && make all\", shell=True)\n",
    "    return model\n",
    "\n",
    "\n",
    "# Append the steps needed to build the platform\n",
    "build_steps = build_cfg.default_build_dataflow_steps + [\n",
    "    test_step_gen_vitis_xo,\n",
    "    test_step_gen_instrumentation_wrapper,\n",
    "    test_step_export_xo,\n",
    "    test_step_build_platform,\n",
    "]\n",
    "\n",
    "build_steps.remove(\"step_specialize_to_rtl\")\n",
    "\n",
    "cfg = build.DataflowBuildConfig(\n",
    "    steps=build_steps,\n",
    "    board=platform_name,\n",
    "    fpga_part=fpga_part,\n",
    "    output_dir=\"output_%s_%s\" % (model_name, platform_name),\n",
    "    synth_clk_period_ns=3.3,\n",
    "    folding_config_file=\"folding_config.json\",\n",
    "    stitched_ip_gen_dcp=False,\n",
    "    generate_outputs=[\n",
    "        build_cfg.DataflowOutputType.STITCHED_IP,\n",
    "    ],\n",
    "    save_intermediate_models=True,\n",
    ")\n",
    "model_file = \"model.onnx\"\n",
    "build.build_dataflow_cfg(model_file, cfg)\n",
    "\"\"\";"
   ]
  },
  {
   "cell_type": "markdown",
   "id": "e4a884b3-1879-44f5-a294-908d89ac7a1f",
   "metadata": {},
   "source": [
    "## Next steps\n",
    "Once all the cells have finished running, the necessary builds will have been completed. **Due to a bug with Vitis XSCT tools, the instrumentation wrapper cannot be run from the notebook. It must be run from outside the notebook (e.g. from the command line that the Jupyter notebook server was started from).** \\\n",
    "\\\n",
    "The next notebook (`2-run_instr_wrap.ipynb`) will detail the process through which the instrumentation wrapper is run from the command line. However, the code cells will not function as intended, and are only placed to show the commands needed to run the instrumentation wrapper."
   ]
  }
 ],
 "metadata": {
  "kernelspec": {
   "display_name": "Python 3 (ipykernel)",
   "language": "python",
   "name": "python3"
  },
  "language_info": {
   "codemirror_mode": {
    "name": "ipython",
    "version": 3
   },
   "file_extension": ".py",
   "mimetype": "text/x-python",
   "name": "python",
   "nbconvert_exporter": "python",
   "pygments_lexer": "ipython3",
   "version": "3.10.6"
  }
 },
 "nbformat": 4,
 "nbformat_minor": 5
}
