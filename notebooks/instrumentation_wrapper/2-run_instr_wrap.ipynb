{
 "cells": [
  {
   "cell_type": "markdown",
   "id": "82de0de1-4dbc-4bfc-bb47-18a799922a4c",
   "metadata": {},
   "source": [
    "# FINN Instrumentation Wrapper Flow (Part 2/2)\n",
    "#### **NOTE: Due to a bug with Vitis XSCT tools, the instrumentation wrapper will fail to run from this notebook. It must be run from outside the notebook (e.g. from the command line that the Jupyter notebook server was started from, after navigating to the `notebooks/instrumentation_wrapper/instr_wrap_platform` folder).**\n",
    "\n",
    "**The code cells will not function as expected, and are only intended to be a guide for the commands that are used to run the instrumentation wrapper.** \\\n",
    "**The output products from the previous notebook (`1-build_model_and_platform.ipynb`) are required to run the instrumentation wrapper.** \\\n",
    "\\\n",
    "This Jupyter notebook will detail the process of taking the platform that was built in the previous notebook and through it, run the instrumentation wrapper on the hardware.\\\n",
    "\\\n",
    "In order the see the output, a serial terminal must be opened for the board that the instrumentation wrapper will run on. This could be done through commands like `screen <BOARD_SERIAL_PORT> <BAUD_RATE>`, or through programs like PuTTY. Additionally, it is assumed that the board is connected to a remote machine and a hw_server has been set up for it."
   ]
  },
  {
   "cell_type": "markdown",
   "id": "5ec55e75-0f94-4347-b024-60b178e1a93b",
   "metadata": {},
   "source": [
    "As detailed in the previous notebook, the parameters for your hw_server should be changed by editing the top-level `Makefile` in the `instr_wrap_platform` folder. This can be done by opening the file in the Jupyter notebook server and manually changing it."
   ]
  },
  {
   "cell_type": "markdown",
   "id": "9b419aa1-00c0-4ea0-a2c3-605849e0c722",
   "metadata": {},
   "source": [
    "Once this has been done, the instrumentation wrapper can be run using `make run_instr_wrap`."
   ]
  },
  {
   "cell_type": "code",
   "execution_count": null,
   "id": "4a05cbc7-e3c1-488b-aec0-25d62f9f84fb",
   "metadata": {
    "scrolled": true
   },
   "outputs": [],
   "source": [
    "#%%sh\n",
    "#cd instr_wrap_platform\n",
    "#make run_instr_wrap"
   ]
  },
  {
   "cell_type": "markdown",
   "id": "4453226a-f67d-4510-b127-2ca02a0a1526",
   "metadata": {},
   "source": [
    "This will first call Vivado to source a `.tcl` script which will export the `.xsa` hardware platform file for use in Vitis. It will then connect to the targeted device's hw_server and program the board with the generated `.pdi` device image file. Then, Vitis XSCT will be called to source a `.tcl` script which will build the platform and instrumentation wrapper application components, connect to the hw_server, and run the instrumentation wrapper application on the board. \\\n",
    "\\\n",
    "The instrumentation wrapper works by importing its source code into the application in Vitis and then building and running the application. The code is relatively straightforward. It will first start the instrumentation wrapper by writing the value 0x10003 to its base address, which will then start the LFSR with a fixed seed and begin generating fixed test data for the FINN model to process."
   ]
  },
  {
   "cell_type": "code",
   "execution_count": null,
   "id": "35032c96-a472-4db7-bd1d-77068255fc44",
   "metadata": {},
   "outputs": [],
   "source": [
    "!sed -n '16,21p' instr_wrap_platform/vitis/src/instr_wrap.cpp"
   ]
  },
  {
   "cell_type": "markdown",
   "id": "641b6702-ea97-4c13-9e4e-cfcaae9fa424",
   "metadata": {},
   "source": [
    "As the model is processing, the number of cycles taken to process the data is written to designated registers for each performance metric within the instrumentation wrapper. The instrumentation wrapper will then read the values from the registers, and print the resulting values onto the serial terminal. This will be done ten times over ten seconds, to account for any potential instability or variation within the performance. Finally, it will print out the average performance metrics of the model over the ten seconds, along with the `status` and `checksum`."
   ]
  },
  {
   "cell_type": "markdown",
   "id": "e2981b37-4d47-455b-8c14-246523a07cd8",
   "metadata": {},
   "source": [
    "The instrumentation wrapper output can then be seen on the serial terminal. The board will first be \"booted up\" by programming the `.pdi` file. Then, the instrumentation wrapper will begin polling the board as it runs the FINN design, and print out the various performance metrics. \\\n",
    "\\\n",
    "`status` checks to ensure that there is no timestamp overflow or underflow, so that there is an equal interval of time between each sample. The `interval` is the number of cycles it takes to read in and process one input. The `latency` is the number of cycles taken to process an input and produce an output. The `checksum` is a verification value to check if the model is working as expected, and should be compared with the value obtained in the testbench simulation of the instrumentation wrapper. \\\n",
    "\\\n",
    "The example built in these notebooks is relatively simple, so the latency and interval should be relatively low."
   ]
  },
  {
   "cell_type": "markdown",
   "id": "7c490cdc",
   "metadata": {},
   "source": [
    "## Going further\n",
    "These two notebooks provided a simple walkthrough of the build flow for the FINN instrumentation wrapper. The model used here was a relatively simple model which could be fully built in a few minutes. However, this build flow would work for any model which was built with the FINN compiler with the additional steps applied - the generated `.xo` files simply need to be copied to their respective locations in the Vitis IP directory, and then the `make` steps can be run to build and run the instrumentation wrapper."
   ]
  }
 ],
 "metadata": {
  "kernelspec": {
   "display_name": "Python 3 (ipykernel)",
   "language": "python",
   "name": "python3"
  },
  "language_info": {
   "codemirror_mode": {
    "name": "ipython",
    "version": 3
   },
   "file_extension": ".py",
   "mimetype": "text/x-python",
   "name": "python",
   "nbconvert_exporter": "python",
   "pygments_lexer": "ipython3",
   "version": "3.10.6"
  }
 },
 "nbformat": 4,
 "nbformat_minor": 5
}
